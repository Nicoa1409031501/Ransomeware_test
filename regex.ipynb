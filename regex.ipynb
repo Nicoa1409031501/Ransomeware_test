{
 "cells": [
  {
   "cell_type": "markdown",
   "metadata": {},
   "source": [
    "# Regular Expression"
   ]
  },
  {
   "cell_type": "markdown",
   "metadata": {},
   "source": [
    "This is for catching fragments in the disassemble file."
   ]
  },
  {
   "cell_type": "code",
   "execution_count": 5,
   "metadata": {},
   "outputs": [
    {
     "name": "stdout",
     "output_type": "stream",
     "text": [
      ".qword 0x000000000003d5e2\n",
      ".string 0x000000000003d5e2\n"
     ]
    }
   ],
   "source": [
    "import re\n",
    "text1=\".qword 0x000000000003d5e2\"\n",
    "text2=\".string 0x000000000003d5e2\"\n",
    "\n",
    "print(re.search('.qword\\ 0x[0-9,A-Z,a-z]{2,}', text1).group()) ## 'gooooooo'\n",
    "print(re.search('.string\\ 0x[0-9,A-Z,a-z]{2,}', text2).group()) ## 'g'"
   ]
  },
  {
   "cell_type": "markdown",
   "metadata": {},
   "source": [
    "## Turn fragment from ASCII code to word"
   ]
  },
  {
   "cell_type": "code",
   "execution_count": 19,
   "metadata": {},
   "outputs": [
    {
     "name": "stdout",
     "output_type": "stream",
     "text": [
      "000000000003d5e2\n",
      "['00', '00', '00', '00', '00', '03', 'd5', 'e2']\n",
      "00\n",
      "\u0000\n",
      "00\n",
      "\u0000\n",
      "00\n",
      "\u0000\n",
      "00\n",
      "\u0000\n",
      "00\n",
      "\u0000\n",
      "03\n",
      "\u0003\n",
      "d5\n"
     ]
    },
    {
     "ename": "UnicodeDecodeError",
     "evalue": "'utf-8' codec can't decode byte 0xd5 in position 0: unexpected end of data",
     "output_type": "error",
     "traceback": [
      "\u001b[1;31m---------------------------------------------------------------------------\u001b[0m",
      "\u001b[1;31mUnicodeDecodeError\u001b[0m                        Traceback (most recent call last)",
      "\u001b[1;32mUntitled-1.ipynb Cell 5\u001b[0m line \u001b[0;36m1\n\u001b[0;32m     <a href='vscode-notebook-cell:Untitled-1.ipynb?jupyter-notebook#W4sdW50aXRsZWQ%3D?line=10'>11</a>\u001b[0m \u001b[39mprint\u001b[39m(text_cut[i])\n\u001b[0;32m     <a href='vscode-notebook-cell:Untitled-1.ipynb?jupyter-notebook#W4sdW50aXRsZWQ%3D?line=11'>12</a>\u001b[0m byte_array \u001b[39m=\u001b[39m \u001b[39mbytearray\u001b[39m\u001b[39m.\u001b[39mfromhex((text_cut[i]))\n\u001b[1;32m---> <a href='vscode-notebook-cell:Untitled-1.ipynb?jupyter-notebook#W4sdW50aXRsZWQ%3D?line=12'>13</a>\u001b[0m \u001b[39mprint\u001b[39m( byte_array\u001b[39m.\u001b[39;49mdecode())\n",
      "\u001b[1;31mUnicodeDecodeError\u001b[0m: 'utf-8' codec can't decode byte 0xd5 in position 0: unexpected end of data"
     ]
    }
   ],
   "source": [
    "import re\n",
    "text1=\".qword 0x000000000003d5e2\"\n",
    "text2=\".string 0x000000000003d5e2\"\n",
    "\n",
    "asc1=re.search('.qword\\ 0x[0-9,A-Z,a-z]{2,}', text1).group()\n",
    "asc2=re.search('.string\\ 0x[0-9,A-Z,a-z]{2,}', text2)\n",
    "print(asc1.split('0x',)[1])\n",
    "print(re.findall(r\".{2}\",asc1.split('0x',)[1]))\n",
    "text_cut=(re.findall(r\".{2}\",asc1.split('0x',)[1]))\n",
    "for i in range(len(text_cut)):\n",
    "    print(text_cut[i])\n",
    "    byte_array = bytearray.fromhex((text_cut[i]))\n",
    "    print(byte_array.decode())"
   ]
  },
  {
   "cell_type": "code",
   "execution_count": 17,
   "metadata": {},
   "outputs": [
    {
     "data": {
      "text/plain": [
       "'hello'"
      ]
     },
     "execution_count": 17,
     "metadata": {},
     "output_type": "execute_result"
    }
   ],
   "source": [
    "string = \"68656c6c6f\"\n",
    "byte_array = bytearray.fromhex(string)\n",
    "byte_array.decode()"
   ]
  },
  {
   "cell_type": "markdown",
   "metadata": {},
   "source": [
    ".string \"Failed to extract %s: failed to allocate temporary input buffer!\\n\"\n",
    "0000\n",
    ".string \"malloc\""
   ]
  },
  {
   "cell_type": "code",
   "execution_count": 2,
   "metadata": {},
   "outputs": [
    {
     "name": "stdout",
     "output_type": "stream",
     "text": [
      "4661696c656420746f20657874726163742025733a206661696c656420746f20616c6c6f636174652074656d706f7261727920696e7075742062756666657221a\n"
     ]
    }
   ],
   "source": [
    "text= \"Failed to extract %s: failed to allocate temporary input buffer!\\n\"  \n",
    "ascii_hex_code = ''.join([hex(ord(char))[2:] for char in text])\n",
    "print(ascii_hex_code)\n",
    "    \n"
   ]
  }
 ],
 "metadata": {
  "kernelspec": {
   "display_name": "Python 3",
   "language": "python",
   "name": "python3"
  },
  "language_info": {
   "codemirror_mode": {
    "name": "ipython",
    "version": 3
   },
   "file_extension": ".py",
   "mimetype": "text/x-python",
   "name": "python",
   "nbconvert_exporter": "python",
   "pygments_lexer": "ipython3",
   "version": "3.11.4"
  }
 },
 "nbformat": 4,
 "nbformat_minor": 2
}
