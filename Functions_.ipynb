{
 "cells": [
  {
   "cell_type": "markdown",
   "metadata": {},
   "source": [
    "# Maware Function"
   ]
  },
  {
   "cell_type": "markdown",
   "metadata": {},
   "source": [
    "Base on MitreAttack framework"
   ]
  },
  {
   "cell_type": "markdown",
   "metadata": {},
   "source": [
    "#### Including\n",
    "+ Reconnaissance\n",
    "+ Resource Development\n",
    "+ Initial Access\n",
    "+ Execution\n",
    "+ Persistence\n",
    "+ Privilege Escalation\n",
    "+ Defense Evasion\n",
    "+ Credential Access\n",
    "+ Discovery\n",
    "+ Lateral Movement\n",
    "+ Collection\n",
    "+ Command and Control\n",
    "+ Exfiltration\n",
    "+ Impact"
   ]
  },
  {
   "cell_type": "code",
   "execution_count": null,
   "metadata": {},
   "outputs": [],
   "source": []
  }
 ],
 "metadata": {
  "language_info": {
   "name": "python"
  }
 },
 "nbformat": 4,
 "nbformat_minor": 2
}
