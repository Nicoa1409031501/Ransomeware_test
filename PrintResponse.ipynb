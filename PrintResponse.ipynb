{
 "cells": [
  {
   "cell_type": "markdown",
   "metadata": {},
   "source": [
    "# 打印(顯示)Response"
   ]
  },
  {
   "cell_type": "markdown",
   "metadata": {},
   "source": [
    "## 功能:顯示不同資料夾中的json(即顯示Response內容)"
   ]
  },
  {
   "cell_type": "code",
   "execution_count": null,
   "metadata": {},
   "outputs": [],
   "source": [
    "import json\n",
    "from pathlib import Path\n",
    "def print_json_contents(directory_name):\n",
    "    # 定義存儲目錄路徑\n",
    "    storage_dir = Path(f\"./Response_from_ChatGPT/{directory_name}\")\n",
    "    cc=0\n",
    "    # 遍歷目錄中的JSON文件\n",
    "    for json_path in storage_dir.glob(\"*.json\"):\n",
    "        with open(json_path, \"r\", encoding=\"utf8\") as jsonFile:\n",
    "            dic_ = json.load(jsonFile)\n",
    "            cc=cc+1\n",
    "            # 從字典中提取並打印所需的內容\n",
    "            if cc>20:break\n",
    "            if \"choices\" in dic_ and dic_[\"choices\"]:\n",
    "                content = dic_[\"choices\"][0][\"message\"][\"content\"]\n",
    "                print(f\"File: {json_path.stem}\")\n",
    "                print(\"Content:\")\n",
    "                print(content)\n",
    "                print(\"-\" * 50)  # 分隔線，用於區分不同文件的內容\n",
    "\n",
    "# 使用函數並打印結果\n",
    "directory_name_example = \"2nd\"  # 替換為實際的目錄名稱\n",
    "\n",
    "print_json_contents(directory_name_example)\n"
   ]
  },
  {
   "cell_type": "markdown",
   "metadata": {},
   "source": [
    "## 顯示第一階段生成Techniques的結果"
   ]
  },
  {
   "cell_type": "code",
   "execution_count": null,
   "metadata": {},
   "outputs": [],
   "source": [
    "from glob import iglob\n",
    "import json\n",
    "count=0\n",
    "count1=0\n",
    "for i in iglob(\"./Response_from_ChatGPT/1st/*\"):\n",
    "    #print(i)\n",
    "    #print(type(i))\n",
    "    #print(i.split(\"\\\\\",)[1])\n",
    "    \n",
    "    jsonFile_i = open(i,\"r\")\n",
    "    dic_=json.load(jsonFile_i)\n",
    "    \n",
    "    if \"choices\" in dic_.keys():\n",
    "        count+=1\n",
    "        #print(dic_[\"choices\"][0][\"message\"][\"content\"].splitlines()[0])\n",
    "        if dic_[\"choices\"][0][\"message\"][\"content\"].splitlines()[0] ==\"[可實現]\":\n",
    "            #print(dic_[\"choices\"][0][\"message\"][\"content\"])\n",
    "            count1+=1\n",
    "        else:print(dic_[\"choices\"][0][\"message\"][\"content\"].splitlines()[0])\n",
    "        \n",
    "        #print(moemory)\n",
    "        #_moemory1=Post_Prompt_Memorry(Assessment_ToT_stage_2,moemory)\n",
    "        #with open(\"./Response_from_ChatGPT/2nd/\"+i.split(\"\\\\\",)[1],\"w+\",encoding=\"utf8\") as file_json:\n",
    "        #    json.dump(_moemory1.json(),file_json,indent=2, separators=(',', ':'),ensure_ascii=False)\n",
    "    else:continue\n",
    "print(count)\n",
    "print(count1)"
   ]
  },
  {
   "cell_type": "markdown",
   "metadata": {},
   "source": [
    "## 顯示出同一個Techniques在不同Temperature 的情況的生成的結果"
   ]
  },
  {
   "cell_type": "code",
   "execution_count": null,
   "metadata": {},
   "outputs": [],
   "source": [
    "import json\n",
    "def catch_plan(file):\n",
    "    json_file_technique=json.load(file)\n",
    "    plan=json_file_technique.split(\"'''\")\n",
    "    return json_file_technique\n",
    "\n",
    "for i in range(1,10):\n",
    "    #print(i)\n",
    "    #print(globals()[\"List_\"+i])\n",
    "    #print(len(globals()[\"List_\"+i]))\n",
    "    for j in range(5):\n",
    "        #print(j.split()[2])\n",
    "        #print(j)\n",
    "        \n",
    "        jsonFile_i = open(\"./Response_from_ChatGPT/Temperature_Test/\"+\"T1052_\"+str(i)+\"_\"+str(j)+\".json\",\"r\",encoding=\"utf8\")\n",
    "        dic_=json.load(jsonFile_i)\n",
    "\n",
    "        \n",
    "        if \"choices\" in dic_.keys():\n",
    "            if i ==3 & j==1:\n",
    "                print(dic_[\"choices\"][0][\"message\"][\"content\"])\n",
    "            elif i == 7 & j == 2:\n",
    "                print(dic_[\"choices\"][0][\"message\"][\"content\"])\n",
    "            #print(dic_[\"choices\"][0][\"message\"][\"content\"].splitlines()[0])\n",
    "            \n",
    "            #print(moemory)\n",
    "            #_moemory1=Post_Prompt_Memorry(Assessment_ToT_stage_2,moemory)\n",
    "            #with open(\"./Response_from_ChatGPT/2nd/\"+i.split(\"\\\\\",)[1],\"w+\",encoding=\"utf8\") as file_json:\n",
    "            #    json.dump(_moemory1.json(),file_json,indent=2, separators=(',', ':'),ensure_ascii=False)\n",
    "        else:continue"
   ]
  }
 ],
 "metadata": {
  "language_info": {
   "name": "python"
  }
 },
 "nbformat": 4,
 "nbformat_minor": 2
}
