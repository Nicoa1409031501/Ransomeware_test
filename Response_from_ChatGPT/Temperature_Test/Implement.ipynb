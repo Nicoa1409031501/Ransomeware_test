{
 "cells": [
  {
   "cell_type": "markdown",
   "metadata": {},
   "source": [
    "# Impletent"
   ]
  },
  {
   "cell_type": "code",
   "execution_count": null,
   "metadata": {},
   "outputs": [],
   "source": [
    "def catch_plan(file):\n",
    "    json_file_technique=json.load(file)\n",
    "    plan=json_file_technique.split(\"'''\")\n",
    "    return"
   ]
  },
  {
   "cell_type": "code",
   "execution_count": null,
   "metadata": {},
   "outputs": [],
   "source": [
    "with open(\"./Experient_Sample_Original.py\",'r',encoding=\"utf8\")as Sample_write:\n",
    "    Text_Sample=Sample_write.read()\n",
    "print(Text_Sample)"
   ]
  }
 ],
 "metadata": {
  "language_info": {
   "name": "python"
  }
 },
 "nbformat": 4,
 "nbformat_minor": 2
}
